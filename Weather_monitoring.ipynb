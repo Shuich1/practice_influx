{
 "cells": [
  {
   "cell_type": "code",
   "execution_count": 1,
   "id": "1ec46437-e1f5-4fc5-b5cd-2a31aa0a8688",
   "metadata": {},
   "outputs": [],
   "source": [
    "import requests\n",
    "import time\n",
    "\n",
    "from influxdb_client import InfluxDBClient, Point\n",
    "from influxdb_client.client.write_api import SYNCHRONOUS"
   ]
  },
  {
   "cell_type": "code",
   "execution_count": 2,
   "id": "313b0bd1-53c3-4c38-9915-3cd7ccca68ae",
   "metadata": {},
   "outputs": [],
   "source": [
    "token = \"TOKEN\"\n",
    "org = \"ORG\"\n",
    "url = \"https://eu-central-1-1.aws.cloud2.influxdata.com\"\n",
    "\n",
    "client = InfluxDBClient(url=url, token=token, org=org)"
   ]
  },
  {
   "cell_type": "code",
   "execution_count": null,
   "id": "ecf34fbf-6d07-4b42-9407-ff5bf92494c0",
   "metadata": {},
   "outputs": [],
   "source": [
    "while True:\n",
    "    r = requests.get(\"API_URL\")                  \n",
    "    weather = r.json()\n",
    "    current_temperature = weather['main']['temp']\n",
    "\n",
    "    bucket=\"Practice\"\n",
    "\n",
    "    write_api = client.write_api(write_options=SYNCHRONOUS)\n",
    "    point = Point(\"Weather\").tag(\"Location\", \"Moscow\").field(\"Temperature\", current_temperature)\n",
    "    write_api.write(bucket=bucket, org=org, record=point)\n",
    "    time.sleep(300)"
   ]
  },
  {
   "cell_type": "code",
   "execution_count": null,
   "id": "2a9ef303-4c59-4d3c-a05c-0be64a90d892",
   "metadata": {},
   "outputs": [],
   "source": []
  }
 ],
 "metadata": {
  "kernelspec": {
   "display_name": "Python 3.9.7 64-bit",
   "language": "python",
   "name": "python3"
  },
  "language_info": {
   "codemirror_mode": {
    "name": "ipython",
    "version": 3
   },
   "file_extension": ".py",
   "mimetype": "text/x-python",
   "name": "python",
   "nbconvert_exporter": "python",
   "pygments_lexer": "ipython3",
   "version": "3.9.7"
  },
  "vscode": {
   "interpreter": {
    "hash": "5f6948aae1c81dbb7b6248a0fc5be1f8f111e4b2655a6bdf9174a54e4d209deb"
   }
  }
 },
 "nbformat": 4,
 "nbformat_minor": 5
}
