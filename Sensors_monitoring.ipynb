{
 "cells": [
  {
   "cell_type": "code",
   "execution_count": 1,
   "id": "57d6090d-b30a-4a0c-916c-3309ab14beea",
   "metadata": {},
   "outputs": [],
   "source": [
    "import psutil\n",
    "import time\n",
    "\n",
    "from influxdb_client import InfluxDBClient, Point\n",
    "from influxdb_client.client.write_api import SYNCHRONOUS"
   ]
  },
  {
   "cell_type": "code",
   "execution_count": 2,
   "id": "885e8d88-9bb4-414f-8583-a5301444bd60",
   "metadata": {},
   "outputs": [],
   "source": [
    "token = \"TOKEN\"\n",
    "org = \"ORG\"\n",
    "url = \"https://eu-central-1-1.aws.cloud2.influxdata.com\"\n",
    "\n",
    "client = InfluxDBClient(url=url, token=token, org=org)"
   ]
  },
  {
   "cell_type": "code",
   "execution_count": null,
   "id": "2d2cd777-2cbf-40ba-89f2-126f49724955",
   "metadata": {
    "scrolled": true,
    "tags": []
   },
   "outputs": [],
   "source": [
    "bucket=\"Monitoring\"\n",
    "\n",
    "while True:\n",
    "    cpu_usage = psutil.cpu_percent()\n",
    "    ram_usage = psutil.virtual_memory().percent\n",
    "    disk_usage = psutil.disk_usage(\"C:\\\\\").percent\n",
    "    battery_charge = psutil.sensors_battery().percent\n",
    "    \n",
    "    cpu_point = Point(\"Monitoring\").tag(\"CPU\", \"cpu_total\").field(\"cpu_usage\", cpu_usage)\n",
    "    ram_point = Point(\"Monitoring\").tag(\"RAM\", \"ram_total\").field(\"ram_usage\", ram_usage)\n",
    "    disk_point = Point(\"Monitoring\").tag(\"Disk\", \"disk_total\").field(\"disk_usage\", disk_usage)\n",
    "    battery_point = Point(\"Monitoring\").tag(\"Battery\", \"battery_total\").field(\"battery_charge\", battery_charge)\n",
    "    \n",
    "    write_api = client.write_api(write_options=SYNCHRONOUS)\n",
    "    write_api.write(bucket=bucket, org=org, record=cpu_point)\n",
    "    write_api.write(bucket=bucket, org=org, record=ram_point)\n",
    "    write_api.write(bucket=bucket, org=org, record=disk_point)\n",
    "    write_api.write(bucket=bucket, org=org, record=battery_point)\n",
    "    \n",
    "    time.sleep(5)"
   ]
  },
  {
   "cell_type": "code",
   "execution_count": null,
   "id": "971b35a0-9d1c-42a6-9cf5-b53ac74cddb7",
   "metadata": {},
   "outputs": [],
   "source": []
  }
 ],
 "metadata": {
  "kernelspec": {
   "display_name": "Python 3 (ipykernel)",
   "language": "python",
   "name": "python3"
  },
  "language_info": {
   "codemirror_mode": {
    "name": "ipython",
    "version": 3
   },
   "file_extension": ".py",
   "mimetype": "text/x-python",
   "name": "python",
   "nbconvert_exporter": "python",
   "pygments_lexer": "ipython3",
   "version": "3.9.7"
  }
 },
 "nbformat": 4,
 "nbformat_minor": 5
}
