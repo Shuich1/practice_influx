{
 "cells": [
  {
   "cell_type": "code",
   "execution_count": 1,
   "id": "1ec46437-e1f5-4fc5-b5cd-2a31aa0a8688",
   "metadata": {},
   "outputs": [
    {
     "name": "stdout",
     "output_type": "stream",
     "text": [
      "Collecting influxdb-client\n",
      "  Downloading influxdb_client-1.29.1-py3-none-any.whl (698 kB)\n",
      "Requirement already satisfied: pytz>=2019.1 in c:\\users\\dadad\\anaconda3\\lib\\site-packages (from influxdb-client) (2021.3)\n",
      "Requirement already satisfied: certifi>=14.05.14 in c:\\users\\dadad\\anaconda3\\lib\\site-packages (from influxdb-client) (2021.10.8)\n",
      "Requirement already satisfied: urllib3>=1.26.0 in c:\\users\\dadad\\anaconda3\\lib\\site-packages (from influxdb-client) (1.26.7)\n",
      "Requirement already satisfied: setuptools>=21.0.0 in c:\\users\\dadad\\anaconda3\\lib\\site-packages (from influxdb-client) (58.0.4)\n",
      "Requirement already satisfied: python-dateutil>=2.5.3 in c:\\users\\dadad\\anaconda3\\lib\\site-packages (from influxdb-client) (2.8.2)\n",
      "Collecting rx>=3.0.1\n",
      "  Downloading Rx-3.2.0-py3-none-any.whl (199 kB)\n",
      "Requirement already satisfied: six>=1.5 in c:\\users\\dadad\\anaconda3\\lib\\site-packages (from python-dateutil>=2.5.3->influxdb-client) (1.16.0)\n",
      "Installing collected packages: rx, influxdb-client\n",
      "Successfully installed influxdb-client-1.29.1 rx-3.2.0\n",
      "Note: you may need to restart the kernel to use updated packages.\n"
     ]
    }
   ],
   "source": [
    "import influxdb_client"
   ]
  },
  {
   "cell_type": "code",
   "execution_count": null,
   "id": "55f4457e-11bb-4347-9c20-ef24a00a365b",
   "metadata": {},
   "outputs": [],
   "source": []
  }
 ],
 "metadata": {
  "kernelspec": {
   "display_name": "Python 3 (ipykernel)",
   "language": "python",
   "name": "python3"
  },
  "language_info": {
   "codemirror_mode": {
    "name": "ipython",
    "version": 3
   },
   "file_extension": ".py",
   "mimetype": "text/x-python",
   "name": "python",
   "nbconvert_exporter": "python",
   "pygments_lexer": "ipython3",
   "version": "3.9.7"
  }
 },
 "nbformat": 4,
 "nbformat_minor": 5
}
