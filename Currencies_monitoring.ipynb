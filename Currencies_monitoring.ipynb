{
 "cells": [
  {
   "cell_type": "code",
   "execution_count": 1,
   "id": "3baeab05-5cd5-4152-8fdf-9450a7bfbe56",
   "metadata": {},
   "outputs": [],
   "source": [
    "import requests\n",
    "import time\n",
    "\n",
    "from influxdb_client import InfluxDBClient, Point\n",
    "from influxdb_client.client.write_api import SYNCHRONOUS"
   ]
  },
  {
   "cell_type": "code",
   "execution_count": 2,
   "id": "71e130da-af88-4e79-9c6a-b43b0860b285",
   "metadata": {},
   "outputs": [],
   "source": [
    "token = \"TOKEN\"\n",
    "org = \"ORG\"\n",
    "url = \"https://eu-central-1-1.aws.cloud2.influxdata.com\"\n",
    "\n",
    "client = InfluxDBClient(url=url, token=token, org=org)"
   ]
  },
  {
   "cell_type": "code",
   "execution_count": null,
   "id": "f15d4cf3-9e88-44ef-b86a-34bb290fcd14",
   "metadata": {},
   "outputs": [
    {
     "name": "stdout",
     "output_type": "stream",
     "text": [
      "{'success': True, 'timestamp': 1655831583, 'source': 'RUB', 'quotes': {'RUBUSD': 0.018692, 'RUBEUR': 0.017745, 'RUBBTC': 8.75588e-07}}\n"
     ]
    }
   ],
   "source": [
    "while True:\n",
    "    url = \"https://api.apilayer.com/currency_data/live?source=RUB&currencies=USD%2C%20EUR%2C%20BTC\"\n",
    "\n",
    "    payload = {}\n",
    "    headers= {\n",
    "      \"apikey\": \"API_KEY\"\n",
    "    }\n",
    "\n",
    "    response = requests.request(\"GET\", url, headers=headers, data = payload)\n",
    "\n",
    "    status_code = response.status_code\n",
    "    result = response.json()\n",
    "    USD_RUB = 1/float(result[\"quotes\"][\"RUBUSD\"])\n",
    "    EUR_RUB= 1/float(result[\"quotes\"][\"RUBEUR\"])\n",
    "    BTC_RUB = 1/float(result[\"quotes\"][\"RUBBTC\"])\n",
    "    \n",
    "    write_api = client.write_api(write_options=SYNCHRONOUS)\n",
    "    usd_point = Point(\"Currency\").tag(\"Currency\", \"USD_RUB\").field(\"Currency\", USD_RUB)\n",
    "    eur_point = Point(\"Currency\").tag(\"Currency\", \"EUR_RUB\").field(\"Currency\", EUR_RUB)\n",
    "    btc_point = Point(\"Currency\").tag(\"Currency\", \"BTC_RUB\").field(\"Currency\", BTC_RUB)\n",
    "    \n",
    "    bucket = \"Practice\"\n",
    "    write_api.write(bucket=bucket, org=org, record=usd_point)\n",
    "    write_api.write(bucket=bucket, org=org, record=eur_point)\n",
    "    write_api.write(bucket=bucket, org=org, record=btc_point)\n",
    "    time.sleep(900)"
   ]
  },
  {
   "cell_type": "code",
   "execution_count": null,
   "id": "6b7b4b86-1ff3-4ccf-ad60-58cb86c8b2e6",
   "metadata": {},
   "outputs": [],
   "source": []
  }
 ],
 "metadata": {
  "kernelspec": {
   "display_name": "Python 3.9.7 64-bit",
   "language": "python",
   "name": "python3"
  },
  "language_info": {
   "codemirror_mode": {
    "name": "ipython",
    "version": 3
   },
   "file_extension": ".py",
   "mimetype": "text/x-python",
   "name": "python",
   "nbconvert_exporter": "python",
   "pygments_lexer": "ipython3",
   "version": "3.9.7"
  },
  "vscode": {
   "interpreter": {
    "hash": "5f6948aae1c81dbb7b6248a0fc5be1f8f111e4b2655a6bdf9174a54e4d209deb"
   }
  }
 },
 "nbformat": 4,
 "nbformat_minor": 5
}
